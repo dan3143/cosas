{
 "cells": [
  {
   "cell_type": "code",
   "execution_count": 1,
   "id": "brown-projection",
   "metadata": {},
   "outputs": [],
   "source": [
    "import numpy as np\n",
    "import re\n",
    "np.random.seed(420)"
   ]
  },
  {
   "cell_type": "markdown",
   "id": "offshore-communist",
   "metadata": {},
   "source": [
    "Para generar una palabra se necesitan diversas categorías. Por ejemplo, las vocales podrían ser V=aeiou, y las consonantes C=bcdfghijklmnpqrstvwxyz. Para que el programa funcione los nombres de las categorías deben ser una letra mayúscula. El primer argumento de ```generate_word()``` es un diccionario cuyas claves son el nombre de la clase y el argumento una lista con los elementos de dicha clase.\n",
    "\n",
    "También se necesita saber de qué forma están distribuidas esas clases. Esto corresponde al segundo argumento de la función, que podría ser, por ejemplo, 'CVC' es decir: una consonante seguida de una vocal y luego una consonante, o 'C(y)V\" es decir, una consonante y una vocal, pero entre estas puede ir una 'y'. O incluso 'V\\[n,m\\]V', que quiere decir una vocal seguida de n o m, seguida de otra vocal. Este argumento recibe una lista de posibles patrones, los cuales serán usados para crear la palabra.\n",
    "\n",
    "El tercer argumento es el número de sílabas.\n",
    "\n",
    "El cuarto está relacionado con la frecuencia con la que aparecen las palabras. Como ejemplo, en el español la letra más común es la 'E' (13.72%), luego le sigue la 'A' (11.72%), luego la 'O' (8.44%) y así sucesivamente. El cuarto argumento dice qué tanto baja la frecuencia. Por ejemplo, si es 0.5, la primera letra de una clase va a aparecer el 50% de las veces, la segunda el 25% y así. Si este argumento es 0, todas las palabras tienen la misma probabilidad de ser escogidas."
   ]
  },
  {
   "cell_type": "code",
   "execution_count": 53,
   "id": "recent-spokesman",
   "metadata": {},
   "outputs": [
    {
     "data": {
      "text/plain": [
       "'oee'"
      ]
     },
     "execution_count": 53,
     "metadata": {},
     "output_type": "execute_result"
    }
   ],
   "source": [
    "def generate_word(alphabet={\n",
    "    'C': list('sdntkf'),\n",
    "    'V': list('eaou') \n",
    "}, constraints=['CVC'], syllables=3, dropoff=0.2):\n",
    "    word = ''\n",
    "    for i in range(syllables):\n",
    "        constraint = np.random.choice(constraints)\n",
    "        word += generate_syllable(alphabet, constraint, dropoff)\n",
    "    return word\n",
    "\n",
    "def generate_syllable(alphabet, constraint, dropoff):\n",
    "    constraint = resolve_optionals(constraint)\n",
    "    constraint = select_from_lists(constraint)\n",
    "    syllable = ''\n",
    "    for element in constraint:\n",
    "        letter = ''\n",
    "        if element.isupper():\n",
    "            choices = alphabet[element]\n",
    "            if dropoff == 0:\n",
    "                letter = np.random.choice(choices)\n",
    "            else:    \n",
    "                p = generate_weights(len(choices), dropoff)\n",
    "                letter = np.random.choice(choices, p=p)\n",
    "        else:\n",
    "            letter = element\n",
    "        syllable += letter\n",
    "    return syllable\n",
    "\n",
    "def resolve_optionals(constraint):\n",
    "    while \"(\" in constraint:        \n",
    "        constraint = resolve_optional(constraint)\n",
    "    return constraint\n",
    "        \n",
    "def resolve_optional(constraint):\n",
    "    regex = r\"\\(([^\\(]*?)\\)\"\n",
    "    result = re.search(regex, constraint)\n",
    "    if bool(result):\n",
    "        whole = result.group(0)\n",
    "        content = result.group(1)\n",
    "        if np.random.randint(0, 5) == 0:\n",
    "            constraint = constraint.replace(whole, content)\n",
    "        else:\n",
    "            constraint = constraint.replace(whole, '')\n",
    "            \n",
    "    return constraint\n",
    "\n",
    "def select_from_lists(constraint):\n",
    "    regex = r'\\[(([a-z],)*[a-z])\\]'\n",
    "    result = re.search(regex, constraint)\n",
    "    if bool(result):\n",
    "        whole = result.group(0)\n",
    "        content = result.group(1).split(',')\n",
    "        chosen_one = np.random.choice(content)\n",
    "        constraint = constraint.replace(whole, chosen_one)\n",
    "    return constraint\n",
    "\n",
    "def generate_weights(i, alpha):\n",
    "    w = (1 - alpha) ** np.arange(i)[::-1]\n",
    "    w /= w.sum()\n",
    "    return np.flip(w)\n",
    "\n",
    "generate_word(syllables=3, constraints=[\"CV\", \"V(C(CV))\"])"
   ]
  },
  {
   "cell_type": "markdown",
   "id": "undefined-momentum",
   "metadata": {},
   "source": [
    "Para generar una oración hay que pegar un montón de palabras juntas. La primera letra de cada una comienza con mayúscula y termina en un signo de puntuación. Esta función recibe un alfabeto y unos patrones.\n",
    "\n",
    "Las palabras generadas pueden tener diferentes tamaños. La probabilidad de que una palabra tenga longitud $i$ está dada por $P_i$. Este es el tercer argumento.\n",
    "\n",
    "Un párrafo solo es un montón de oraciones."
   ]
  },
  {
   "cell_type": "code",
   "execution_count": 46,
   "id": "surprised-bolivia",
   "metadata": {},
   "outputs": [],
   "source": [
    "def generate_sentence(alphabet={\n",
    "    'C': list('sdntkf'),\n",
    "    'V': list('eaou') \n",
    "}, constraints=['CV(V)'], length_probability=[0.25, 0.25, 0.25, 0.25], dropoff=0.2, max_words=10):\n",
    "    number_of_words = np.random.randint(1, max_words)\n",
    "    puntuation = list('.?!')\n",
    "    lengths = list(range(1, len(length_probability)+1))\n",
    "    sentence = ''\n",
    "    for i in range(number_of_words):\n",
    "        length = np.random.choice(lengths, p=length_probability)\n",
    "        word = generate_word(alphabet, constraints, length, dropoff)\n",
    "        sentence += f\"{word} \"\n",
    "    sentence = sentence.strip().capitalize()\n",
    "    sentence += np.random.choice(puntuation, p=[0.8, 0.1, 0.1])\n",
    "    return sentence\n",
    "\n",
    "def generate_paragraph(alphabet={\n",
    "    'C': list('sdntkf'),\n",
    "    'V': list('eaou') \n",
    "}, constraints=['CV(V)'], length_probability=[0.25, 0.25, 0.25, 0.25], dropoff=0.2, max_sentences=10):\n",
    "    paragraph = ''\n",
    "    for i in range(max_sentences):\n",
    "        sentence = generate_sentence(alphabet, constraints, length_probability, dropoff) + \" \"\n",
    "        paragraph += sentence\n",
    "    return paragraph.rstrip()"
   ]
  },
  {
   "cell_type": "code",
   "execution_count": 55,
   "id": "square-october",
   "metadata": {},
   "outputs": [
    {
     "data": {
      "text/html": [
       "\n",
       "<style>\n",
       ".document {\n",
       "    font-size: medium;\n",
       "    font-family: serif;\n",
       "}\n",
       "</style>\n",
       "<div class=\"document\">\n",
       "<h1>Takode</h1>\n",
       "<p> Saak dafe afnaak seon sahoakdo sohafea. Adatas segee osboak baah ababed sanosee anak tuakes. Hebu daedbe as ahod oton. Seegge dedo haek kafe adteho adedefat ufososed. Baen ukosne na noun uddeas adso ahbeet ehadseag. Ussoeehnu tekoso endoeeg soneod sanaaut udse! Odendo saoseson tahotafau asaf neeusso duasgao kuha unugubas. Feso ebno. Seeno heat unfeadta! Noas doefetefu gusubutee ognuod edut.</p>\n",
       "<p> Egfeuafde feues abas deeat! Essu soog edfa? Etsa ot uddaones tenaaedad nuke neesdautea. Afas nugeaus noo. Ogfo odsaos beaadnu agud. Esad. Adfoo soannoda done kouetadok sabeuatok naodusa ke. Otna odan seef. Akseedgo esdedo udnee osdeokas osedeses tede ubasos afetfe. Naasbeog edubudka fosakee edbu hues boodassa doootonse odukseke ed.</p>\n",
       "<h2>Do udussa</h2>\n",
       "<p> Adunen asof okaddeus taso. Baedge ossedoa behasu faeos! Dahoasad. Etagdaesoo kusou. Edus asseo odedduod enkao ekbeudsu foot noan. Agafgeno okasku tebeanu egde efuk heas usogatah ekedes! Useb daen senuu sogo esud. Enfu abed esnaedtoo noandu onsees. Etetodna deseefuge ahodsao heense asab edteso esessu. Sosase boadu seut gote neutse gauek odofotnu.</p>\n",
       "<p> Sosautaos. Efused hakoo edsu segosue. Ub safo saonetaes unnoat. Tanasa. Ek ahdeasa kudo atek ofonekso odad osebnoa. Affa soonue. Aska osusefsa. Adokno. Sausdafa ebes ugneesen etok utohod dasaeda ososnu. Tuoudod kaanoano dedunotu husee uned neones as askakuus.</p>\n",
       "</div>\n"
      ],
      "text/plain": [
       "<IPython.core.display.HTML object>"
      ]
     },
     "execution_count": 55,
     "metadata": {},
     "output_type": "execute_result"
    }
   ],
   "source": [
    "from IPython.core.display import HTML\n",
    "\n",
    "alphabet = {\n",
    "    'C': list('sdntkfbgh'),\n",
    "    'V': list('eaou')\n",
    "}\n",
    "\n",
    "constraints = ['CV(V)', 'VC']\n",
    "lengths = [0.1, 0.4, 0.3, 0.2]\n",
    "\n",
    "def generate_title():\n",
    "    return generate_sentence(alphabet, constraints, lengths, max_words=3)[:-1]\n",
    "\n",
    "HTML(\"\"\"\n",
    "<style>\n",
    ".document {\n",
    "    font-size: medium;\n",
    "    font-family: serif;\n",
    "}\n",
    "</style>\n",
    "<div class=\"document\">\n",
    "<h1>\"\"\"+generate_title()+\"\"\"</h1>\n",
    "<p> \"\"\" +generate_paragraph(alphabet, constraints, lengths)+ \"\"\"</p>\n",
    "<p> \"\"\" +generate_paragraph(alphabet, constraints, lengths)+ \"\"\"</p>\n",
    "<h2>\"\"\"+generate_title()+\"\"\"</h2>\n",
    "<p> \"\"\" +generate_paragraph(alphabet, constraints, lengths)+ \"\"\"</p>\n",
    "<p> \"\"\" +generate_paragraph(alphabet, constraints, lengths)+ \"\"\"</p>\n",
    "</div>\n",
    "\"\"\")"
   ]
  }
 ],
 "metadata": {
  "kernelspec": {
   "display_name": "Python 3",
   "language": "python",
   "name": "python3"
  },
  "language_info": {
   "codemirror_mode": {
    "name": "ipython",
    "version": 3
   },
   "file_extension": ".py",
   "mimetype": "text/x-python",
   "name": "python",
   "nbconvert_exporter": "python",
   "pygments_lexer": "ipython3",
   "version": "3.8.8"
  }
 },
 "nbformat": 4,
 "nbformat_minor": 5
}
