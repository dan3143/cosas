{
 "cells": [
  {
   "cell_type": "code",
   "execution_count": 1,
   "id": "valid-ranking",
   "metadata": {},
   "outputs": [],
   "source": [
    "import numpy as np\n",
    "import re\n",
    "import random\n",
    "np.random.seed(420)"
   ]
  },
  {
   "cell_type": "markdown",
   "id": "international-disney",
   "metadata": {},
   "source": [
    "Para generar una palabra se necesitan diversas categorías. Por ejemplo, las vocales podrían ser V=aeiou, y las consonantes C=bcdfghijklmnpqrstvwxyz. Para que el programa funcione los nombres de las categorías deben ser una letra mayúscula. El primer argumento de ```generate_word()``` es un diccionario cuyas claves son el nombre de la clase y el argumento una lista con los elementos de dicha clase.\n",
    "\n",
    "También se necesita saber de qué forma están distribuidas esas clases. Esto corresponde al segundo argumento de la función, que podría ser, por ejemplo, 'CVC' es decir: una consonante seguida de una vocal y luego una consonante, o 'C(y)V\" es decir, una consonante y una vocal, pero entre estas puede ir una 'y'. O incluso 'V\\[n,m\\]V', que quiere decir una vocal seguida de n o m, seguida de otra vocal.\n",
    "\n",
    "El tercer argumento es el número de sílabas.\n",
    "\n",
    "El cuarto está relacionado con la frecuencia con la que aparecen las palabras. Como ejemplo, en el español la letra más común es la 'E' (13.72%), luego le sigue la 'A' (11.72%), luego la 'O' (8.44%) y así sucesivamente. El cuarto argumento dice qué tanto baja la frecuencia. Por ejemplo, si es 0.5, la primera letra de una clase va a aparecer el 50% de las veces, la segunda el 25% y así. Si este argumento es 0, todas las palabras tienen la misma probabilidad de ser escogidas."
   ]
  },
  {
   "cell_type": "code",
   "execution_count": 2,
   "id": "reported-clone",
   "metadata": {},
   "outputs": [
    {
     "data": {
      "text/plain": [
       "'daseko'"
      ]
     },
     "execution_count": 2,
     "metadata": {},
     "output_type": "execute_result"
    }
   ],
   "source": [
    "def generate_word(alphabet={\n",
    "    'C': list('sdntkf'),\n",
    "    'V': list('eaou') \n",
    "}, constraint='CVC', syllables=3, dropoff=0.2):\n",
    "    word = ''\n",
    "    for i in range(syllables):\n",
    "        word += generate_syllable(alphabet, constraint, dropoff)\n",
    "    return word\n",
    "\n",
    "def generate_syllable(alphabet, constraint, dropoff):\n",
    "    constraint = resolve_optionals(constraint)\n",
    "    constraint = select_from_lists(constraint)\n",
    "    syllable = ''\n",
    "    for element in constraint:\n",
    "        letter = ''\n",
    "        if element.isupper():\n",
    "            choices = alphabet[element]\n",
    "            if dropoff == 0:\n",
    "                letter = np.random.choice(choices)\n",
    "            else:    \n",
    "                p = generate_weights(len(choices), dropoff)\n",
    "                letter = np.random.choice(choices, p=p)\n",
    "        else:\n",
    "            letter = element\n",
    "        syllable += letter\n",
    "    return syllable\n",
    "\n",
    "def resolve_optionals(constraint):\n",
    "    while \"(\" in constraint:        \n",
    "        constraint = resolve_optional(constraint)\n",
    "    return constraint\n",
    "        \n",
    "def resolve_optional(constraint):\n",
    "    regex = r\"\\(([^\\(]*?)\\)\"\n",
    "    result = re.search(regex, constraint)\n",
    "    if bool(result):\n",
    "        whole = result.group(0)\n",
    "        content = result.group(1)\n",
    "        if np.random.randint(0, 5) == 0:\n",
    "            constraint = constraint.replace(whole, content)\n",
    "        else:\n",
    "            constraint = constraint.replace(whole, '')\n",
    "            \n",
    "    return constraint\n",
    "\n",
    "def select_from_lists(constraint):\n",
    "    regex = r'\\[(([a-z],)*[a-z])\\]'\n",
    "    result = re.search(regex, constraint)\n",
    "    if bool(result):\n",
    "        whole = result.group(0)\n",
    "        content = result.group(1).split(',')\n",
    "        chosen_one = np.random.choice(content)\n",
    "        constraint = constraint.replace(whole, chosen_one)\n",
    "    return constraint\n",
    "\n",
    "def generate_weights(i, alpha):\n",
    "    w = (1 - alpha) ** np.arange(i)[::-1]\n",
    "    w /= w.sum()\n",
    "    return np.flip(w)\n",
    "\n",
    "generate_word(syllables=3, constraint=\"CV\")"
   ]
  },
  {
   "cell_type": "markdown",
   "id": "naval-provider",
   "metadata": {},
   "source": [
    "Para generar una oración hay que pegar un montón de palabras juntas. La primera letra de cada una comienza con mayúscula y termina en un signo de puntuación. Aquí cada palabra puede tener un patrón distinto. Por ejemplo, CVC para una, o CV(V) para otras.\n",
    "\n",
    "Las palabras generadas por cada patrón pueden tener diferentes tamaños. La probabilidad de que una palabra tenga longitud $i$ está dada por $P_i$. El segundo argumento para esta función es un diccionario donde las llaves son el patrón y el valor es un array representando a $P$.\n",
    "\n",
    "Por ejemplo: ```CVC: [0.1, 0.8, 0.1]``` quiere decir que las sílabas de una palabra tienen el patrón CVC, y que hay un 10% de probabilidades de que sea de una sola sílaba, 80% de probabilidades de que sea de dos sílabas y 10% de que la palabra tenga tres sílabas.\n",
    "\n",
    "Un párrafo solo es un montón de oraciones."
   ]
  },
  {
   "cell_type": "code",
   "execution_count": 3,
   "id": "offshore-victoria",
   "metadata": {},
   "outputs": [],
   "source": [
    "def generate_sentence(alphabet={\n",
    "    'C': list('sdntkf'),\n",
    "    'V': list('eaou') \n",
    "}, syllable_lengths={'CV(V)': [0, 1, 0]}, dropoff=0.2, max_words=10):\n",
    "    number_of_words = np.random.randint(1, max_words)\n",
    "    puntuation = list('.?!')\n",
    "    constraints = list(syllable_lengths.keys())\n",
    "    sentence = ''\n",
    "    for i in range(number_of_words):\n",
    "        constraint, probabilities = random.choice(list(syllable_lengths.items()))\n",
    "        lengths = range(1, len(probabilities)+1)\n",
    "        length = np.random.choice(lengths, p=probabilities)\n",
    "        word = generate_word(syllables=length, constraint=constraint, alphabet=alphabet, dropoff=dropoff)\n",
    "        sentence += f\"{word} \"\n",
    "    sentence = sentence.strip().capitalize()\n",
    "    sentence += np.random.choice(puntuation, p=[0.8, 0.1, 0.1])\n",
    "    return sentence\n",
    "\n",
    "def generate_paragraph(alphabet={\n",
    "    'C': list('sdntkf'),\n",
    "    'V': list('eaou') \n",
    "}, syllable_lengths={'CV(V)': [0, 1, 0]}, dropoff=0.2, max_sentences=10):\n",
    "    paragraph = ''\n",
    "    for i in range(max_sentences):\n",
    "        sentence = generate_sentence(alphabet, syllable_lengths, dropoff=dropoff) + \" \"\n",
    "        paragraph += sentence\n",
    "    return paragraph.rstrip()"
   ]
  },
  {
   "cell_type": "code",
   "execution_count": 14,
   "id": "abroad-strap",
   "metadata": {},
   "outputs": [
    {
     "data": {
      "text/html": [
       "\n",
       "<style>\n",
       ".document {\n",
       "    font-size: medium;\n",
       "    font-family: serif;\n",
       "}\n",
       "</style>\n",
       "<div class=\"document\">\n",
       "<h1>Du nonu</h1>\n",
       "<p> Sako ados afet edes ubad done? Asunoefu. Kono. Atut. Dese. Ka. Keda se tuna sa uneaso sase ubos esas. Fote obaasesa abe udadunu nuta! Dadu unueto ke betu bu sude okoes okut nete! Sasu ased ofusa.</p>\n",
       "<p> Ne tana aneak esotaad sasa! Denu dena ededet done ekoosoef. Egokasu note ofooneto osususa. Ataef fasa du. Kuno adokod efenud tubu. Dese asadono afefot tade atosuf agagat tuno. De hutu kuhe noge. Egane ku nada seda ba. Onef asot fase. Sodu da unon data eseduso.</p>\n",
       "<h2>Atehafe</h2>\n",
       "<p> Soho fo anen tesu odeofe dago kadu. Ohek edeudodo duda asus adeasek neke kuna. Asaes ugekos noso dubo atudah. Sudo ebukes duso adudoen ososes go usanab sose. Tose neto! Utosan nese bano. Efofo edoso efed? Sune oned sasa ogut utut. Asene ebof. Bone sako edaduud daga esun edon on efo.</p>\n",
       "<p> Tade nena osed neko hato de dona sesa. Keba fuse baso ab saka hese kebu edaonob otouto. Sadu teho. Sa sedo? Tata tefo afan bo ahasus anabet odah kuto adeseoko. Nako daga nusu kedo? Anebe fodu usade. Seka aheb odas unukod sone. Ku dedu kego uneta ekadueh. Asuefuk de ukefed basu nese.</p>\n",
       "</div>\n"
      ],
      "text/plain": [
       "<IPython.core.display.HTML object>"
      ]
     },
     "execution_count": 14,
     "metadata": {},
     "output_type": "execute_result"
    }
   ],
   "source": [
    "from IPython.core.display import HTML\n",
    "\n",
    "alphabet = {\n",
    "    'C': list('sdntkfbgh'),\n",
    "    'V': list('eaou')\n",
    "}\n",
    "\n",
    "syllable_lengths={\n",
    "    'VC(V)': [0.1, 0.5, 0.4],\n",
    "    'CV': [0.2, 0.8]\n",
    "}\n",
    "\n",
    "def generate_title():\n",
    "    return generate_sentence(alphabet, syllable_lengths, max_words=3)[:-1]\n",
    "\n",
    "HTML(\"\"\"\n",
    "<style>\n",
    ".document {\n",
    "    font-size: medium;\n",
    "    font-family: serif;\n",
    "}\n",
    "</style>\n",
    "<div class=\"document\">\n",
    "<h1>\"\"\"+generate_title()+\"\"\"</h1>\n",
    "<p> \"\"\" +generate_paragraph(alphabet, syllable_lengths)+ \"\"\"</p>\n",
    "<p> \"\"\" +generate_paragraph(alphabet, syllable_lengths)+ \"\"\"</p>\n",
    "<h2>\"\"\"+generate_title()+\"\"\"</h2>\n",
    "<p> \"\"\" +generate_paragraph(alphabet, syllable_lengths)+ \"\"\"</p>\n",
    "<p> \"\"\" +generate_paragraph(alphabet, syllable_lengths)+ \"\"\"</p>\n",
    "</div>\n",
    "\"\"\")"
   ]
  }
 ],
 "metadata": {
  "kernelspec": {
   "display_name": "Python 3",
   "language": "python",
   "name": "python3"
  },
  "language_info": {
   "codemirror_mode": {
    "name": "ipython",
    "version": 3
   },
   "file_extension": ".py",
   "mimetype": "text/x-python",
   "name": "python",
   "nbconvert_exporter": "python",
   "pygments_lexer": "ipython3",
   "version": "3.8.8"
  }
 },
 "nbformat": 4,
 "nbformat_minor": 5
}
